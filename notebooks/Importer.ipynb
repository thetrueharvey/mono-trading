{
 "cells": [
  {
   "cell_type": "markdown",
   "metadata": {},
   "source": [
    "# Importer\n",
    "\n",
    "Provides a notebook for pulling data from the Binance API"
   ]
  },
  {
   "cell_type": "markdown",
   "metadata": {},
   "source": [
    "## Libraries"
   ]
  },
  {
   "cell_type": "code",
   "execution_count": 1,
   "metadata": {},
   "outputs": [],
   "source": [
    "# stdlib"
   ]
  },
  {
   "cell_type": "code",
   "execution_count": 2,
   "metadata": {},
   "outputs": [],
   "source": [
    "# 3rd party\n",
    "import polars as pl"
   ]
  },
  {
   "cell_type": "code",
   "execution_count": 3,
   "metadata": {},
   "outputs": [],
   "source": [
    "# project\n",
    "from src.data.binance.constants import *\n",
    "from src.data.binance.functional import kline_pipeline"
   ]
  },
  {
   "cell_type": "markdown",
   "metadata": {},
   "source": [
    "## Data Loading"
   ]
  },
  {
   "cell_type": "code",
   "execution_count": 4,
   "metadata": {},
   "outputs": [
    {
     "name": "stdout",
     "output_type": "stream",
     "text": [
      "Fetching all data for BTCUSDT | 1m... ⣽2022-03-20 15:07:14.006437: Fetched data for BTCUSDT | 1m | 2016-01-01 00:00:00.000000 to 2022-03-20 15:00:15.014287 | 2405533 rows\n",
      "Done!                                                                           \n"
     ]
    },
    {
     "name": "stderr",
     "output_type": "stream",
     "text": [
      "c:\\Users\\nicharvey\\projects\\trading\\mono-trading\\.venv\\lib\\site-packages\\polars\\internals\\frame.py:1459: UserWarning: accessing series as Attribute of a DataFrame is deprecated\n",
      "  warnings.warn(\"accessing series as Attribute of a DataFrame is deprecated\")\n"
     ]
    },
    {
     "ename": "AttributeError",
     "evalue": "drop_duplicates",
     "output_type": "error",
     "traceback": [
      "\u001b[1;31m---------------------------------------------------------------------------\u001b[0m",
      "\u001b[1;31mNotFoundError\u001b[0m                             Traceback (most recent call last)",
      "File \u001b[1;32mc:\\Users\\nicharvey\\projects\\trading\\mono-trading\\.venv\\lib\\site-packages\\polars\\internals\\frame.py:1460\u001b[0m, in \u001b[0;36mDataFrame.__getattr__\u001b[1;34m(self, item)\u001b[0m\n\u001b[0;32m   <a href='file:///c%3A/Users/nicharvey/projects/trading/mono-trading/.venv/lib/site-packages/polars/internals/frame.py?line=1458'>1459</a>\u001b[0m     warnings\u001b[39m.\u001b[39mwarn(\u001b[39m\"\u001b[39m\u001b[39maccessing series as Attribute of a DataFrame is deprecated\u001b[39m\u001b[39m\"\u001b[39m)\n\u001b[1;32m-> <a href='file:///c%3A/Users/nicharvey/projects/trading/mono-trading/.venv/lib/site-packages/polars/internals/frame.py?line=1459'>1460</a>\u001b[0m     \u001b[39mreturn\u001b[39;00m pli\u001b[39m.\u001b[39mwrap_s(\u001b[39mself\u001b[39;49m\u001b[39m.\u001b[39;49m_df\u001b[39m.\u001b[39;49mcolumn(item))\n\u001b[0;32m   <a href='file:///c%3A/Users/nicharvey/projects/trading/mono-trading/.venv/lib/site-packages/polars/internals/frame.py?line=1460'>1461</a>\u001b[0m \u001b[39mexcept\u001b[39;00m \u001b[39mException\u001b[39;00m:\n",
      "\u001b[1;31mNotFoundError\u001b[0m: drop_duplicates",
      "\nDuring handling of the above exception, another exception occurred:\n",
      "\u001b[1;31mAttributeError\u001b[0m                            Traceback (most recent call last)",
      "\u001b[1;32mc:\\Users\\nicharvey\\projects\\trading\\mono-trading\\notebooks\\Importer.ipynb Cell 7'\u001b[0m in \u001b[0;36m<cell line: 2>\u001b[1;34m()\u001b[0m\n\u001b[0;32m      <a href='vscode-notebook-cell:/c%3A/Users/nicharvey/projects/trading/mono-trading/notebooks/Importer.ipynb#ch0000007?line=0'>1</a>\u001b[0m \u001b[39m# Load BTCUSDT (defaults to 1 minute candles)\u001b[39;00m\n\u001b[1;32m----> <a href='vscode-notebook-cell:/c%3A/Users/nicharvey/projects/trading/mono-trading/notebooks/Importer.ipynb#ch0000007?line=1'>2</a>\u001b[0m \u001b[39mawait\u001b[39;00m kline_pipeline(symbols\u001b[39m=\u001b[39m[\u001b[39m\"\u001b[39m\u001b[39mBTCUSDT\u001b[39m\u001b[39m\"\u001b[39m])\n",
      "File \u001b[1;32mc:\\Users\\nicharvey\\projects\\trading\\mono-trading\\src\\data\\binance\\functional.py:108\u001b[0m, in \u001b[0;36mkline_pipeline\u001b[1;34m(symbols, save_dir, intervals)\u001b[0m\n\u001b[0;32m    <a href='file:///c%3A/Users/nicharvey/projects/trading/mono-trading/src/data/binance/functional.py?line=105'>106</a>\u001b[0m \u001b[39mfor\u001b[39;00m symbol \u001b[39min\u001b[39;00m symbols:\n\u001b[0;32m    <a href='file:///c%3A/Users/nicharvey/projects/trading/mono-trading/src/data/binance/functional.py?line=106'>107</a>\u001b[0m     \u001b[39mfor\u001b[39;00m interval \u001b[39min\u001b[39;00m intervals:\n\u001b[1;32m--> <a href='file:///c%3A/Users/nicharvey/projects/trading/mono-trading/src/data/binance/functional.py?line=107'>108</a>\u001b[0m         \u001b[39mawait\u001b[39;00m update_kline_data(\n\u001b[0;32m    <a href='file:///c%3A/Users/nicharvey/projects/trading/mono-trading/src/data/binance/functional.py?line=108'>109</a>\u001b[0m             symbol\u001b[39m=\u001b[39msymbol, \n\u001b[0;32m    <a href='file:///c%3A/Users/nicharvey/projects/trading/mono-trading/src/data/binance/functional.py?line=109'>110</a>\u001b[0m             save_dir\u001b[39m=\u001b[39msave_path, \n\u001b[0;32m    <a href='file:///c%3A/Users/nicharvey/projects/trading/mono-trading/src/data/binance/functional.py?line=110'>111</a>\u001b[0m             interval\u001b[39m=\u001b[39minterval\n\u001b[0;32m    <a href='file:///c%3A/Users/nicharvey/projects/trading/mono-trading/src/data/binance/functional.py?line=111'>112</a>\u001b[0m         )\n",
      "File \u001b[1;32mc:\\Users\\nicharvey\\projects\\trading\\mono-trading\\src\\data\\binance\\functional.py:78\u001b[0m, in \u001b[0;36mupdate_kline_data\u001b[1;34m(symbol, save_dir, default_start, interval)\u001b[0m\n\u001b[0;32m     <a href='file:///c%3A/Users/nicharvey/projects/trading/mono-trading/src/data/binance/functional.py?line=75'>76</a>\u001b[0m \u001b[39mif\u001b[39;00m kline_df_ \u001b[39mis\u001b[39;00m \u001b[39mnot\u001b[39;00m \u001b[39mNone\u001b[39;00m:\n\u001b[0;32m     <a href='file:///c%3A/Users/nicharvey/projects/trading/mono-trading/src/data/binance/functional.py?line=76'>77</a>\u001b[0m     kline_df\u001b[39m.\u001b[39mvstack(kline_df_, in_place\u001b[39m=\u001b[39m\u001b[39mTrue\u001b[39;00m)\n\u001b[1;32m---> <a href='file:///c%3A/Users/nicharvey/projects/trading/mono-trading/src/data/binance/functional.py?line=77'>78</a>\u001b[0m     kline_df\u001b[39m.\u001b[39;49msort(by\u001b[39m=\u001b[39;49m\u001b[39m\"\u001b[39;49m\u001b[39mOpen time\u001b[39;49m\u001b[39m\"\u001b[39;49m)\u001b[39m.\u001b[39;49mdrop_duplicates()\u001b[39m.\u001b[39mto_parquet(file\u001b[39m=\u001b[39msave_path \u001b[39m/\u001b[39m \u001b[39mf\u001b[39m\u001b[39m\"\u001b[39m\u001b[39m{\u001b[39;00msymbol\u001b[39m}\u001b[39;00m\u001b[39m_\u001b[39m\u001b[39m{\u001b[39;00minterval\u001b[39m}\u001b[39;00m\u001b[39m.parquet\u001b[39m\u001b[39m\"\u001b[39m)\n",
      "File \u001b[1;32mc:\\Users\\nicharvey\\projects\\trading\\mono-trading\\.venv\\lib\\site-packages\\polars\\internals\\frame.py:1462\u001b[0m, in \u001b[0;36mDataFrame.__getattr__\u001b[1;34m(self, item)\u001b[0m\n\u001b[0;32m   <a href='file:///c%3A/Users/nicharvey/projects/trading/mono-trading/.venv/lib/site-packages/polars/internals/frame.py?line=1459'>1460</a>\u001b[0m     \u001b[39mreturn\u001b[39;00m pli\u001b[39m.\u001b[39mwrap_s(\u001b[39mself\u001b[39m\u001b[39m.\u001b[39m_df\u001b[39m.\u001b[39mcolumn(item))\n\u001b[0;32m   <a href='file:///c%3A/Users/nicharvey/projects/trading/mono-trading/.venv/lib/site-packages/polars/internals/frame.py?line=1460'>1461</a>\u001b[0m \u001b[39mexcept\u001b[39;00m \u001b[39mException\u001b[39;00m:\n\u001b[1;32m-> <a href='file:///c%3A/Users/nicharvey/projects/trading/mono-trading/.venv/lib/site-packages/polars/internals/frame.py?line=1461'>1462</a>\u001b[0m     \u001b[39mraise\u001b[39;00m \u001b[39mAttributeError\u001b[39;00m(item)\n",
      "\u001b[1;31mAttributeError\u001b[0m: drop_duplicates"
     ]
    }
   ],
   "source": [
    "# Load BTCUSDT (defaults to 1 minute candles)\n",
    "await kline_pipeline(symbols=[\"BTCUSDT\"])"
   ]
  }
 ],
 "metadata": {
  "interpreter": {
   "hash": "902f79d9ad772a74e093918cd238b73d3a66752a1294615df56dc1ae990c412f"
  },
  "kernelspec": {
   "display_name": "Python 3.10.0 ('.venv': venv)",
   "language": "python",
   "name": "python3"
  },
  "language_info": {
   "codemirror_mode": {
    "name": "ipython",
    "version": 3
   },
   "file_extension": ".py",
   "mimetype": "text/x-python",
   "name": "python",
   "nbconvert_exporter": "python",
   "pygments_lexer": "ipython3",
   "version": "3.10.0"
  },
  "orig_nbformat": 4
 },
 "nbformat": 4,
 "nbformat_minor": 2
}
